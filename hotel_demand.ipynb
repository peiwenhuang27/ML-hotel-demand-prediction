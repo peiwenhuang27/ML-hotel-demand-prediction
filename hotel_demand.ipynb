{
 "cells": [
  {
   "cell_type": "markdown",
   "metadata": {},
   "source": [
    "# Machine Learning Final Project: Predicting Hotel Demand"
   ]
  },
  {
   "cell_type": "markdown",
   "metadata": {},
   "source": [
    "## 0.0 read data"
   ]
  },
  {
   "cell_type": "code",
   "execution_count": 1,
   "metadata": {},
   "outputs": [],
   "source": [
    "import numpy as np\n",
    "from numpy import linalg\n",
    "import pandas as pd\n",
    "import scipy\n",
    "import matplotlib.pyplot as plt\n",
    "from sklearn.pipeline import make_pipeline\n",
    "from sklearn.preprocessing import StandardScaler\n",
    "from sklearn.neighbors import KNeighborsClassifier\n",
    "import time\n",
    "from datetime import *\n",
    "import copy"
   ]
  },
  {
   "cell_type": "code",
   "execution_count": 127,
   "metadata": {},
   "outputs": [],
   "source": [
    "df_origin = pd.read_csv('./data/train.csv')\n",
    "label = pd.read_csv('./data/train_label.csv')\n",
    "df_test = pd.read_csv('./data/test.csv')"
   ]
  },
  {
   "cell_type": "code",
   "execution_count": 128,
   "metadata": {},
   "outputs": [],
   "source": [
    "df_train = df_origin.loc[:74842, :]\n",
    "df_val = df_origin.loc[74843:, :]"
   ]
  },
  {
   "cell_type": "markdown",
   "metadata": {},
   "source": [
    "## 0.1.0 preprocessing"
   ]
  },
  {
   "cell_type": "code",
   "execution_count": 107,
   "metadata": {},
   "outputs": [],
   "source": [
    "y_isCan = df_origin['is_canceled']\n",
    "y_adr = df_origin['adr']\n",
    "df_origin.drop(columns=['reservation_status', 'reservation_status_date', 'is_canceled', 'adr'], inplace = True)"
   ]
  },
  {
   "cell_type": "code",
   "execution_count": 5,
   "metadata": {},
   "outputs": [],
   "source": [
    "concate = pd.concat([df_origin,df_test],axis=0).reset_index(drop = True)"
   ]
  },
  {
   "cell_type": "code",
   "execution_count": 6,
   "metadata": {},
   "outputs": [
    {
     "data": {
      "text/plain": [
       "ID                                     0\n",
       "hotel                                  0\n",
       "lead_time                              0\n",
       "arrival_date_year                      0\n",
       "arrival_date_month                     0\n",
       "arrival_date_week_number               0\n",
       "arrival_date_day_of_month              0\n",
       "stays_in_weekend_nights                0\n",
       "stays_in_week_nights                   0\n",
       "adults                                 0\n",
       "children                               4\n",
       "babies                                 0\n",
       "meal                                   0\n",
       "country                              488\n",
       "market_segment                         0\n",
       "distribution_channel                   0\n",
       "is_repeated_guest                      0\n",
       "previous_cancellations                 0\n",
       "previous_bookings_not_canceled         0\n",
       "reserved_room_type                     0\n",
       "assigned_room_type                     0\n",
       "booking_changes                        0\n",
       "deposit_type                           0\n",
       "agent                              16340\n",
       "company                           112593\n",
       "days_in_waiting_list                   0\n",
       "customer_type                          0\n",
       "required_car_parking_spaces            0\n",
       "total_of_special_requests              0\n",
       "dtype: int64"
      ]
     },
     "execution_count": 6,
     "metadata": {},
     "output_type": "execute_result"
    }
   ],
   "source": [
    "concate.isna().sum()"
   ]
  },
  {
   "cell_type": "markdown",
   "metadata": {},
   "source": [
    "### 0.1.1 dropna"
   ]
  },
  {
   "cell_type": "code",
   "execution_count": 7,
   "metadata": {},
   "outputs": [],
   "source": [
    "concate = concate.drop(columns=['country', 'agent', 'company'])"
   ]
  },
  {
   "cell_type": "markdown",
   "metadata": {},
   "source": [
    "### 0.1.2 fill 'children' with its median"
   ]
  },
  {
   "cell_type": "code",
   "execution_count": 8,
   "metadata": {},
   "outputs": [],
   "source": [
    "concate = concate.fillna(concate.children.median())"
   ]
  },
  {
   "cell_type": "markdown",
   "metadata": {},
   "source": [
    "### 0.1.2 map month to integer code"
   ]
  },
  {
   "cell_type": "code",
   "execution_count": 9,
   "metadata": {},
   "outputs": [],
   "source": [
    "concate['arrival_date_month'] = concate['arrival_date_month'].map({'January':1, 'February': 2, 'March':3, 'April':4, 'May':5, 'June':6, 'July': 7, 'August':8, 'September':9, 'October': 10, 'November': 11, 'December':12})\n",
    "concate.arrival_date_month = concate.arrival_date_month.astype(int)"
   ]
  },
  {
   "cell_type": "markdown",
   "metadata": {},
   "source": [
    "### 0.1.3 convert date to weekday"
   ]
  },
  {
   "cell_type": "code",
   "execution_count": 10,
   "metadata": {},
   "outputs": [],
   "source": [
    "def dateToWeekDay(df):\n",
    "    year = df.arrival_date_year\n",
    "    month = df.arrival_date_month\n",
    "    day = df.arrival_date_day_of_month\n",
    "    n = len(df)\n",
    "    weekDays = [0 for i in range(n)]\n",
    "    for i in range(n):\n",
    "        weekDays[i] = date(year[i], month[i], day[i]).weekday()   \n",
    "    # return 1~7\n",
    "    df1 = copy.deepcopy(df)\n",
    "    df1.insert(6,'weekDay', weekDays)\n",
    "#     df1 = pd.get_dummies(df1, columns = ['weekDay'])\n",
    "#     print(df1.columns)\n",
    "#     df1 = df1.drop(columns = ['weekDay_6']) # remove last one\n",
    "    return df1;"
   ]
  },
  {
   "cell_type": "code",
   "execution_count": 11,
   "metadata": {},
   "outputs": [],
   "source": [
    "concate = dateToWeekDay(concate)"
   ]
  },
  {
   "cell_type": "markdown",
   "metadata": {},
   "source": [
    "### 0.1.4 convert categorical variables to integer codes"
   ]
  },
  {
   "cell_type": "code",
   "execution_count": 12,
   "metadata": {},
   "outputs": [
    {
     "name": "stdout",
     "output_type": "stream",
     "text": [
      "Index(['ID', 'hotel', 'lead_time', 'arrival_date_year', 'arrival_date_month',\n",
      "       'arrival_date_week_number', 'weekDay', 'arrival_date_day_of_month',\n",
      "       'stays_in_weekend_nights', 'stays_in_week_nights', 'adults', 'children',\n",
      "       'babies', 'meal', 'market_segment', 'distribution_channel',\n",
      "       'is_repeated_guest', 'previous_cancellations',\n",
      "       'previous_bookings_not_canceled', 'reserved_room_type',\n",
      "       'assigned_room_type', 'booking_changes', 'deposit_type',\n",
      "       'days_in_waiting_list', 'customer_type', 'required_car_parking_spaces',\n",
      "       'total_of_special_requests'],\n",
      "      dtype='object')\n"
     ]
    }
   ],
   "source": [
    "# Creating dummy variables:\n",
    "concate['hotel'] = concate['hotel'].astype('category').cat.codes\n",
    "concate['arrival_date_month'] = concate['arrival_date_month'].astype('category').cat.codes\n",
    "concate['meal'] = concate['meal'].astype('category').cat.codes\n",
    "concate['market_segment'] = concate['market_segment'].astype('category').cat.codes\n",
    "concate['distribution_channel'] = concate['distribution_channel'].astype('category').cat.codes\n",
    "concate['reserved_room_type'] = concate['reserved_room_type'].astype('category').cat.codes\n",
    "concate['assigned_room_type'] = concate['assigned_room_type'].astype('category').cat.codes\n",
    "concate['deposit_type'] = concate['deposit_type'].astype('category').cat.codes\n",
    "concate['customer_type'] = concate['customer_type'].astype('category').cat.codes\n",
    "concate['weekDay'] = concate['weekDay'].astype('category').cat.codes\n",
    "print(concate.columns)"
   ]
  },
  {
   "cell_type": "code",
   "execution_count": 13,
   "metadata": {},
   "outputs": [
    {
     "data": {
      "text/plain": [
       "ID                                0\n",
       "hotel                             0\n",
       "lead_time                         0\n",
       "arrival_date_year                 0\n",
       "arrival_date_month                0\n",
       "arrival_date_week_number          0\n",
       "weekDay                           0\n",
       "arrival_date_day_of_month         0\n",
       "stays_in_weekend_nights           0\n",
       "stays_in_week_nights              0\n",
       "adults                            0\n",
       "children                          0\n",
       "babies                            0\n",
       "meal                              0\n",
       "market_segment                    0\n",
       "distribution_channel              0\n",
       "is_repeated_guest                 0\n",
       "previous_cancellations            0\n",
       "previous_bookings_not_canceled    0\n",
       "reserved_room_type                0\n",
       "assigned_room_type                0\n",
       "booking_changes                   0\n",
       "deposit_type                      0\n",
       "days_in_waiting_list              0\n",
       "customer_type                     0\n",
       "required_car_parking_spaces       0\n",
       "total_of_special_requests         0\n",
       "dtype: int64"
      ]
     },
     "execution_count": 13,
     "metadata": {},
     "output_type": "execute_result"
    }
   ],
   "source": [
    "concate.isna().sum()"
   ]
  },
  {
   "cell_type": "markdown",
   "metadata": {},
   "source": [
    "### 0.2.0 splitting train/validation/test set"
   ]
  },
  {
   "cell_type": "markdown",
   "metadata": {},
   "source": [
    "#### Building X and y"
   ]
  },
  {
   "cell_type": "markdown",
   "metadata": {},
   "source": [
    "#### Splitting train/validation\n",
    "(isCan/adr)"
   ]
  },
  {
   "cell_type": "markdown",
   "metadata": {},
   "source": [
    "Split data at index 74843 (2016/11/30)\n",
    "\n",
    ":74842 -> train\n",
    "\n",
    "74843: -> val"
   ]
  },
  {
   "cell_type": "code",
   "execution_count": 14,
   "metadata": {},
   "outputs": [],
   "source": [
    "# y_isCan, y_adr 要切 train, val\n",
    "y_train_isCan = y_isCan.loc[:74842]\n",
    "y_train_adr = y_adr.loc[:74842]\n",
    "y_val_isCan = y_isCan.loc[74843:]\n",
    "y_val_adr = y_adr.loc[74843:]\n",
    "\n",
    "#concate 要切 train, val, test\n",
    "X_train = concate.loc[:74842, :]\n",
    "X_val = concate.loc[74843:91530, :]\n",
    "X_test = concate.loc[91531:, :]"
   ]
  },
  {
   "cell_type": "code",
   "execution_count": 15,
   "metadata": {},
   "outputs": [],
   "source": [
    "X_train_all = concate.loc[:91530, :]\n",
    "y_train_all_isCan = y_isCan.loc[:91530]\n",
    "y_train_all_adr = y_adr.loc[:91530]"
   ]
  },
  {
   "cell_type": "code",
   "execution_count": 16,
   "metadata": {},
   "outputs": [
    {
     "name": "stdout",
     "output_type": "stream",
     "text": [
      "74843\n",
      "74843\n",
      "16688\n",
      "16688\n",
      "74843\n",
      "16688\n",
      "27859\n"
     ]
    }
   ],
   "source": [
    "print(len(y_train_isCan))\n",
    "print(len(y_train_adr))\n",
    "print(len(y_val_isCan))\n",
    "print(len(y_val_adr))\n",
    "print(len(X_train))\n",
    "print(len(X_val))\n",
    "print(len(X_test))"
   ]
  },
  {
   "cell_type": "markdown",
   "metadata": {},
   "source": [
    "## 1.0 Basic analysis"
   ]
  },
  {
   "cell_type": "markdown",
   "metadata": {},
   "source": [
    "#### \"is_canceled\""
   ]
  },
  {
   "cell_type": "code",
   "execution_count": 27,
   "metadata": {},
   "outputs": [
    {
     "data": {
      "image/png": "[encoded data removed]",
      "text/plain": [
       "<Figure size 432x288 with 1 Axes>"
      ]
     },
     "metadata": {},
     "output_type": "display_data"
    }
   ],
   "source": [
    "import matplotlib.pyplot as plt\n",
    "\n",
    "# Data to plot\n",
    "labels = 'not canceled', 'canceled'\n",
    "sizes = [y_train_isCan.value_counts(normalize=True)[0], y_train_isCan.value_counts(normalize=True)[1]]\n",
    "colors = ['yellowgreen','lightskyblue']\n",
    "explode = (0.1, 0)  # explode 1st slice\n",
    "\n",
    "# Plot\n",
    "plt.pie(sizes, explode=explode, labels=labels, colors=colors, autopct='%2.0f%%', shadow=False, startangle=90)\n",
    "plt.title(\"Pie chart of is_canceled\")\n",
    "plt.axis('equal')\n",
    "plt.show()"
   ]
  },
  {
   "cell_type": "markdown",
   "metadata": {},
   "source": [
    "#### \"adr\""
   ]
  },
  {
   "cell_type": "code",
   "execution_count": 26,
   "metadata": {},
   "outputs": [
    {
     "data": {
      "image/png": "[encoded data removed]",
      "text/plain": [
       "<Figure size 432x288 with 1 Axes>"
      ]
     },
     "metadata": {
      "needs_background": "light"
     },
     "output_type": "display_data"
    }
   ],
   "source": [
    "_ = plt.hist(y_train_adr, bins='auto')  # arguments are passed to np.histogram\n",
    "plt.title(\"Histogram of adr\")\n",
    "plt.show()"
   ]
  },
  {
   "cell_type": "code",
   "execution_count": 28,
   "metadata": {},
   "outputs": [
    {
     "name": "stdout",
     "output_type": "stream",
     "text": [
      "Maximum of adr:  5399.424061287761\n",
      "Minimum of adr:  -118.23836167072805\n"
     ]
    }
   ],
   "source": [
    "print(\"Maximum of adr: \", max(y_train_adr))\n",
    "print(\"Minimum of adr: \", min(y_train_adr))"
   ]
  },
  {
   "cell_type": "markdown",
   "metadata": {},
   "source": [
    "#### \"label\""
   ]
  },
  {
   "cell_type": "code",
   "execution_count": 37,
   "metadata": {},
   "outputs": [
    {
     "data": {
      "image/png": "[encoded data removed]",
      "text/plain": [
       "<Figure size 640x480 with 1 Axes>"
      ]
     },
     "metadata": {},
     "output_type": "display_data"
    }
   ],
   "source": [
    "plt.rcdefaults()\n",
    "\n",
    "objects = ('1', '2', '3', '4', '5', '6', '7', '8', '9')\n",
    "y_pos = np.arange(len(objects))\n",
    "performance = [label['label'].value_counts()[1], label['label'].value_counts()[2], label['label'].value_counts()[3], \\\n",
    "               label['label'].value_counts()[4], label['label'].value_counts()[5], label['label'].value_counts()[6], \\\n",
    "               label['label'].value_counts()[7], label['label'].value_counts()[8], label['label'].value_counts()[9]]\n",
    "\n",
    "plt.bar(y_pos, performance, align='center', alpha=0.5)\n",
    "plt.xticks(y_pos, objects)\n",
    "plt.ylabel('Frequency')\n",
    "plt.title('Revenue Distribution')\n",
    "\n",
    "plt.show()"
   ]
  },
  {
   "cell_type": "markdown",
   "metadata": {},
   "source": [
    "## 2.0 Trivial"
   ]
  },
  {
   "cell_type": "markdown",
   "metadata": {},
   "source": [
    "### 2.1 feature selection"
   ]
  },
  {
   "cell_type": "code",
   "execution_count": 38,
   "metadata": {},
   "outputs": [],
   "source": [
    "from sklearn.feature_selection import SelectKBest, chi2, f_classif # chi2 only takes non-negative, drop adr for now"
   ]
  },
  {
   "cell_type": "code",
   "execution_count": 39,
   "metadata": {},
   "outputs": [],
   "source": [
    "def featureSelect_isCan(X_train, y_train, n): # select n best\n",
    "    X_10_best= SelectKBest(chi2, k=n).fit(X_train, y_train)\n",
    "    mask = X_10_best.get_support() #list of booleans for selected features\n",
    "    new_feat = [] \n",
    "    for bool, feature in zip(mask, X_train.columns):\n",
    "        if bool:\n",
    "            new_feat.append(feature)\n",
    "    print('The best features are:{}'.format(new_feat)) # The list of your 10 best features"
   ]
  },
  {
   "cell_type": "code",
   "execution_count": 40,
   "metadata": {},
   "outputs": [],
   "source": [
    "def featureSelect_adr(X_train, y_train, n): # select n best\n",
    "    X_10_best= SelectKBest(f_classif, k=n).fit(X_train, y_train)\n",
    "    mask = X_10_best.get_support() #list of booleans for selected features\n",
    "    new_feat = [] \n",
    "    for bool, feature in zip(mask, X_train.columns):\n",
    "        if bool:\n",
    "            new_feat.append(feature)\n",
    "    print('The best features are:{}'.format(new_feat)) # The list of your 10 best features"
   ]
  },
  {
   "cell_type": "code",
   "execution_count": 41,
   "metadata": {},
   "outputs": [
    {
     "data": {
      "text/plain": [
       "27"
      ]
     },
     "execution_count": 41,
     "metadata": {},
     "output_type": "execute_result"
    }
   ],
   "source": [
    "len(X_train.columns)"
   ]
  },
  {
   "cell_type": "code",
   "execution_count": 42,
   "metadata": {},
   "outputs": [
    {
     "name": "stdout",
     "output_type": "stream",
     "text": [
      "The best features are:['ID', 'hotel', 'lead_time', 'arrival_date_week_number', 'distribution_channel', 'is_repeated_guest', 'previous_cancellations', 'previous_bookings_not_canceled', 'reserved_room_type', 'assigned_room_type', 'booking_changes', 'deposit_type', 'days_in_waiting_list', 'required_car_parking_spaces', 'total_of_special_requests']\n"
     ]
    }
   ],
   "source": [
    "featureSelect_isCan(X_train, y_train_isCan, 15)"
   ]
  },
  {
   "cell_type": "code",
   "execution_count": 43,
   "metadata": {},
   "outputs": [
    {
     "name": "stdout",
     "output_type": "stream",
     "text": [
      "The best features are:['ID', 'hotel', 'lead_time', 'stays_in_weekend_nights', 'stays_in_week_nights', 'adults', 'children', 'babies', 'meal', 'previous_cancellations', 'previous_bookings_not_canceled', 'booking_changes', 'deposit_type', 'days_in_waiting_list', 'customer_type']\n"
     ]
    },
    {
     "name": "stderr",
     "output_type": "stream",
     "text": [
      "/Users/joannehuang/anaconda3/lib/python3.6/site-packages/sklearn/feature_selection/_univariate_selection.py:116: RuntimeWarning:\n",
      "\n",
      "divide by zero encountered in true_divide\n",
      "\n"
     ]
    }
   ],
   "source": [
    "featureSelect_adr(X_train, y_train_adr, 15)"
   ]
  },
  {
   "cell_type": "code",
   "execution_count": 44,
   "metadata": {},
   "outputs": [],
   "source": [
    "X_train_isCan = X_train[['ID', 'hotel', 'lead_time', 'arrival_date_week_number', 'distribution_channel', \\\n",
    "                         'is_repeated_guest', 'previous_cancellations', 'previous_bookings_not_canceled', \\\n",
    "                         'reserved_room_type', 'assigned_room_type', 'booking_changes', 'deposit_type', \\\n",
    "                         'days_in_waiting_list', 'required_car_parking_spaces', 'total_of_special_requests']]\n",
    "X_train_adr = X_train[['ID', 'hotel', 'lead_time', 'stays_in_weekend_nights', 'stays_in_week_nights', \\\n",
    "                       'adults', 'children', 'babies', 'meal', 'previous_cancellations', 'previous_bookings_not_canceled',\\\n",
    "                       'booking_changes', 'deposit_type', 'days_in_waiting_list', 'customer_type']]\n",
    "X_val_isCan = X_val[['ID', 'hotel', 'lead_time', 'arrival_date_week_number', 'distribution_channel', \\\n",
    "                         'is_repeated_guest', 'previous_cancellations', 'previous_bookings_not_canceled', \\\n",
    "                         'reserved_room_type', 'assigned_room_type', 'booking_changes', 'deposit_type', \\\n",
    "                         'days_in_waiting_list', 'required_car_parking_spaces', 'total_of_special_requests']]\n",
    "X_val_adr = X_val[['ID', 'hotel', 'lead_time', 'stays_in_weekend_nights', 'stays_in_week_nights', \\\n",
    "                       'adults', 'children', 'babies', 'meal', 'previous_cancellations', 'previous_bookings_not_canceled',\\\n",
    "                       'booking_changes', 'deposit_type', 'days_in_waiting_list', 'customer_type']]"
   ]
  },
  {
   "cell_type": "code",
   "execution_count": 45,
   "metadata": {},
   "outputs": [],
   "source": [
    "X_train_all_isCan = X_train_all[['ID', 'hotel', 'lead_time', 'arrival_date_week_number', 'distribution_channel', \\\n",
    "                         'is_repeated_guest', 'previous_cancellations', 'previous_bookings_not_canceled', \\\n",
    "                         'reserved_room_type', 'assigned_room_type', 'booking_changes', 'deposit_type', \\\n",
    "                         'days_in_waiting_list', 'required_car_parking_spaces', 'total_of_special_requests']]\n",
    "X_train_all_adr = X_train_all[['ID', 'hotel', 'lead_time', 'stays_in_weekend_nights', 'stays_in_week_nights', \\\n",
    "                       'adults', 'children', 'babies', 'meal', 'previous_cancellations', 'previous_bookings_not_canceled',\\\n",
    "                       'booking_changes', 'deposit_type', 'days_in_waiting_list', 'customer_type']]\n",
    "X_test_isCan = X_test[['ID', 'hotel', 'lead_time', 'arrival_date_week_number', 'distribution_channel', \\\n",
    "                         'is_repeated_guest', 'previous_cancellations', 'previous_bookings_not_canceled', \\\n",
    "                         'reserved_room_type', 'assigned_room_type', 'booking_changes', 'deposit_type', \\\n",
    "                         'days_in_waiting_list', 'required_car_parking_spaces', 'total_of_special_requests']]\n",
    "X_test_adr = X_test[['ID', 'hotel', 'lead_time', 'stays_in_weekend_nights', 'stays_in_week_nights', \\\n",
    "                       'adults', 'children', 'babies', 'meal', 'previous_cancellations', 'previous_bookings_not_canceled',\\\n",
    "                       'booking_changes', 'deposit_type', 'days_in_waiting_list', 'customer_type']]"
   ]
  },
  {
   "cell_type": "markdown",
   "metadata": {},
   "source": [
    "### 2.2 computing accuracy "
   ]
  },
  {
   "cell_type": "code",
   "execution_count": 46,
   "metadata": {},
   "outputs": [],
   "source": [
    "from sklearn.metrics import accuracy_score\n",
    "def computeAccuracy(X, y, y_result): #x: test revenue, y: test label\n",
    "    print(\"Accuracy =\", accuracy_score(y, y_result))\n",
    "    print(\"Number of mislabeled points out of a total %d points : %d\"% (X.shape[0],(y != y_result).sum()))\n",
    "    print(\"E_val = \", (y != y_result).sum() / X.shape[0])\n",
    "    \n",
    "from sklearn.metrics import r2_score\n",
    "def calculateRsquare(X, y, y_result): #x: test revenue, y: test label\n",
    "    print(\"R square =\", r2_score(y, y_result))"
   ]
  },
  {
   "cell_type": "markdown",
   "metadata": {},
   "source": [
    "## 3.0 Predict \"is_can\""
   ]
  },
  {
   "cell_type": "markdown",
   "metadata": {},
   "source": [
    "### 3.1 k-th Nearest Neighbor"
   ]
  },
  {
   "cell_type": "code",
   "execution_count": 47,
   "metadata": {},
   "outputs": [],
   "source": [
    "def trainKNN(X_train, y_train, k, X_val):\n",
    "    print(\"Pre-processing...\")\n",
    "    knn = KNeighborsClassifier(n_neighbors = k)\n",
    "    print(\"Fitting...\")\n",
    "    knn_best = knn.fit(X_train, y_train)\n",
    "    print(\"Predicting...\")\n",
    "    y_result = knn_best.predict(X_val)\n",
    "    return y_result;"
   ]
  },
  {
   "cell_type": "code",
   "execution_count": 48,
   "metadata": {},
   "outputs": [
    {
     "name": "stdout",
     "output_type": "stream",
     "text": [
      "Pre-processing...\n",
      "Fitting...\n",
      "Predicting...\n",
      "Accuracy = 0.6678451581975072\n",
      "Number of mislabeled points out of a total 16688 points : 5543\n",
      "E_val =  0.33215484180249283\n",
      "Pre-processing...\n",
      "Fitting...\n",
      "Predicting...\n",
      "Accuracy = 0.6678451581975072\n",
      "Number of mislabeled points out of a total 16688 points : 5543\n",
      "E_val =  0.33215484180249283\n",
      "Pre-processing...\n",
      "Fitting...\n",
      "Predicting...\n",
      "Accuracy = 0.6678451581975072\n",
      "Number of mislabeled points out of a total 16688 points : 5543\n",
      "E_val =  0.33215484180249283\n"
     ]
    }
   ],
   "source": [
    "# no feature\n",
    "for i in range(1, 6, 2):\n",
    "    y_result = trainKNN(X_train, y_train_isCan, i, X_val)\n",
    "    computeAccuracy(X_val, y_val_isCan, y_result)"
   ]
  },
  {
   "cell_type": "code",
   "execution_count": 50,
   "metadata": {},
   "outputs": [
    {
     "name": "stdout",
     "output_type": "stream",
     "text": [
      "Pre-processing...\n",
      "Fitting...\n",
      "Predicting...\n",
      "Accuracy = 0.6678451581975072\n",
      "Number of mislabeled points out of a total 16688 points : 5543\n",
      "E_val =  0.33215484180249283\n"
     ]
    }
   ],
   "source": [
    "# with feature\n",
    "y_result = trainKNN(X_train_isCan, y_train_isCan, 3, X_val_isCan)\n",
    "computeAccuracy(X_val_isCan, y_val_isCan, y_result)"
   ]
  },
  {
   "cell_type": "markdown",
   "metadata": {},
   "source": [
    "### 3.2 Random Forest Classification"
   ]
  },
  {
   "cell_type": "code",
   "execution_count": 55,
   "metadata": {},
   "outputs": [],
   "source": [
    "from sklearn.model_selection import cross_val_score, GridSearchCV\n",
    "from sklearn.ensemble import RandomForestRegressor, RandomForestClassifier\n",
    "from sklearn.preprocessing import MinMaxScaler\n",
    "\n",
    "def trainRFC(X_train, y_train_isCan, X_val, random_mode, oob_state, min_leaf):\n",
    "    rfr = RandomForestClassifier(random_state = random_mode, oob_score = oob_state, min_samples_leaf = min_leaf)\n",
    "    rfr.fit(X_train, y_train_isCan)\n",
    "    y_result = rfr.predict(X_val)\n",
    "    return y_result"
   ]
  },
  {
   "cell_type": "code",
   "execution_count": 56,
   "metadata": {},
   "outputs": [
    {
     "name": "stdout",
     "output_type": "stream",
     "text": [
      "Accuracy = 0.7661792905081496\n",
      "Number of mislabeled points out of a total 16688 points : 3902\n",
      "E_val =  0.23382070949185044\n"
     ]
    }
   ],
   "source": [
    "# with feature\n",
    "y_result = trainRFC(X_train_isCan, y_train_isCan, X_val_isCan, 0, True, 10)\n",
    "computeAccuracy(X_val_isCan, y_val_isCan, y_result)"
   ]
  },
  {
   "cell_type": "code",
   "execution_count": 39,
   "metadata": {},
   "outputs": [
    {
     "name": "stdout",
     "output_type": "stream",
     "text": [
      "Accuracy = 0.763003355704698\n",
      "Number of mislabeled points out of a total 16688 points : 3955\n",
      "E_val =  0.236996644295302\n",
      "Accuracy = 0.7661792905081496\n",
      "Number of mislabeled points out of a total 16688 points : 3902\n",
      "E_val =  0.23382070949185044\n",
      "Accuracy = 0.7616850431447747\n",
      "Number of mislabeled points out of a total 16688 points : 3977\n",
      "E_val =  0.2383149568552253\n"
     ]
    }
   ],
   "source": [
    "# no feature\n",
    "min_leaf = [1, 10, 50]\n",
    "for leaf in min_leaf:\n",
    "    y_result = trainRFC(X_train_isCan, y_train_isCan, X_val_isCan, 0, True, leaf)\n",
    "    computeAccuracy(X_val_isCan, y_val_isCan, y_result)"
   ]
  },
  {
   "cell_type": "markdown",
   "metadata": {},
   "source": [
    "#### train with whole training dataset (including validation)"
   ]
  },
  {
   "cell_type": "code",
   "execution_count": 90,
   "metadata": {},
   "outputs": [],
   "source": [
    "y_isCan_all = trainRFC(X_train_all_isCan, y_train_all_isCan, X_test_isCan, 0, True, 10)"
   ]
  },
  {
   "cell_type": "markdown",
   "metadata": {},
   "source": [
    "### 3.3 Logistic Regression"
   ]
  },
  {
   "cell_type": "code",
   "execution_count": 59,
   "metadata": {},
   "outputs": [],
   "source": [
    "from sklearn.linear_model import LogisticRegression\n",
    "from sklearn.metrics import accuracy_score\n",
    "\n",
    "### solver: lbfgs, newton-cg, sag\n",
    "def trainLogisticRegression(X_train, y_train, X_val):\n",
    "    clf = LogisticRegression(random_state=0, penalty='l2', solver='newton-cg', multi_class='multinomial').fit(X_train, y_train)\n",
    "    y_result = clf.predict(X_val)\n",
    "    return(y_result)"
   ]
  },
  {
   "cell_type": "code",
   "execution_count": 43,
   "metadata": {},
   "outputs": [
    {
     "name": "stdout",
     "output_type": "stream",
     "text": [
      "Accuracy = 0.7659995206136145\n",
      "Number of mislabeled points out of a total 16688 points : 3905\n",
      "E_val =  0.23400047938638543\n"
     ]
    },
    {
     "name": "stderr",
     "output_type": "stream",
     "text": [
      "C:\\Users\\pinjun Liu\\Downloads\\anaconda\\lib\\site-packages\\sklearn\\utils\\optimize.py:212: ConvergenceWarning: newton-cg failed to converge. Increase the number of iterations.\n",
      "  \"number of iterations.\", ConvergenceWarning)\n"
     ]
    }
   ],
   "source": [
    "# no feature\n",
    "y_result = trainLogisticRegression(X_train, y_train_isCan, X_val)\n",
    "computeAccuracy(X_val, y_val_isCan, y_result)"
   ]
  },
  {
   "cell_type": "code",
   "execution_count": 60,
   "metadata": {},
   "outputs": [
    {
     "name": "stdout",
     "output_type": "stream",
     "text": [
      "Accuracy = 0.7476030680728667\n",
      "Number of mislabeled points out of a total 16688 points : 4212\n",
      "E_val =  0.25239693192713325\n"
     ]
    },
    {
     "name": "stderr",
     "output_type": "stream",
     "text": [
      "/Users/joannehuang/anaconda3/lib/python3.6/site-packages/sklearn/utils/optimize.py:212: ConvergenceWarning:\n",
      "\n",
      "newton-cg failed to converge. Increase the number of iterations.\n",
      "\n"
     ]
    }
   ],
   "source": [
    "# with feature\n",
    "y_result = trainLogisticRegression(X_train_isCan, y_train_isCan, X_val_isCan)\n",
    "computeAccuracy(X_val_isCan, y_val_isCan, y_result)"
   ]
  },
  {
   "cell_type": "markdown",
   "metadata": {},
   "source": [
    "## 4.0 Predict \"adr\""
   ]
  },
  {
   "cell_type": "markdown",
   "metadata": {},
   "source": [
    "### 4.1 Linear Regression"
   ]
  },
  {
   "cell_type": "code",
   "execution_count": 73,
   "metadata": {},
   "outputs": [],
   "source": [
    "from sklearn.linear_model import LinearRegression\n",
    "\n",
    "def trainLinearRegression(X_train_adr, y_train_adr, X_val_adr):\n",
    "    clf = LinearRegression().fit(X_train_adr, y_train_adr)\n",
    "    y_result = clf.predict(X_val_adr)\n",
    "    return(y_result)"
   ]
  },
  {
   "cell_type": "code",
   "execution_count": null,
   "metadata": {},
   "outputs": [],
   "source": [
    "y_result = trainLinearRegression(X_train, y_train_adr, X_val)\n",
    "calculateRsquare(X_val, y_val_adr, y_result)"
   ]
  },
  {
   "cell_type": "markdown",
   "metadata": {},
   "source": [
    "### 4.2 Random Forest Regression"
   ]
  },
  {
   "cell_type": "code",
   "execution_count": 75,
   "metadata": {},
   "outputs": [],
   "source": [
    "def trainRFR(X_train, y_train_adr, X_val, random_mode, oob_state, min_leaf):\n",
    "    rfr = RandomForestRegressor(random_state = random_mode, oob_score = oob_state, min_samples_leaf = min_leaf)\n",
    "    rfr.fit(X_train, y_train_adr)\n",
    "    pred = rfr.predict(X_val)\n",
    "    return pred"
   ]
  },
  {
   "cell_type": "code",
   "execution_count": 80,
   "metadata": {},
   "outputs": [
    {
     "name": "stdout",
     "output_type": "stream",
     "text": [
      "R square = 0.500844494392595\n"
     ]
    }
   ],
   "source": [
    "# with feature\n",
    "y_result = trainRFR(X_train_adr, y_train_adr, X_val_adr, 0, True, 10)\n",
    "calculateRsquare(X_val_adr, y_val_adr, y_result)"
   ]
  },
  {
   "cell_type": "code",
   "execution_count": 81,
   "metadata": {},
   "outputs": [
    {
     "name": "stdout",
     "output_type": "stream",
     "text": [
      "R square = 0.6056049624454187\n",
      "R square = 0.5969313087589534\n",
      "R square = 0.5406007411169285\n"
     ]
    }
   ],
   "source": [
    "# no feature\n",
    "min_leaf = [1, 10, 50]\n",
    "for leaf in min_leaf:\n",
    "    y_result = trainRFR(X_train, y_train_adr, X_val, 0, True, leaf)\n",
    "    calculateRsquare(X_val, y_val_adr, y_result)"
   ]
  },
  {
   "cell_type": "markdown",
   "metadata": {},
   "source": [
    "#### train with whole training dataset (including validation)"
   ]
  },
  {
   "cell_type": "code",
   "execution_count": 56,
   "metadata": {},
   "outputs": [],
   "source": [
    "y_adr_all = trainRFR(X_train_all_adr, y_train_all_adr, X_test_adr)"
   ]
  },
  {
   "cell_type": "markdown",
   "metadata": {},
   "source": [
    "## 5.0 Calculate predicted daily revenue"
   ]
  },
  {
   "cell_type": "code",
   "execution_count": 83,
   "metadata": {},
   "outputs": [],
   "source": [
    "def calculateDateRevenue(df):\n",
    "    df['arrival_date_month'] = df['arrival_date_month'].map({'January':'01', 'February': '02', 'March':'03', 'April':'04', 'May':'05', 'June':'06', 'July': '07', 'August':'08', 'September':'09', 'October': '10', 'November': '11', 'December':'12'})\n",
    "    df['arrival_date_day_of_month'] = df['arrival_date_day_of_month'].replace(1, \"01\")\n",
    "    df['arrival_date_day_of_month'] = df['arrival_date_day_of_month'].replace(2, \"02\")\n",
    "    df['arrival_date_day_of_month'] = df['arrival_date_day_of_month'].replace(3, \"03\")\n",
    "    df['arrival_date_day_of_month'] = df['arrival_date_day_of_month'].replace(4, \"04\")\n",
    "    df['arrival_date_day_of_month'] = df['arrival_date_day_of_month'].replace(5, \"05\")\n",
    "    df['arrival_date_day_of_month'] = df['arrival_date_day_of_month'].replace(6, \"06\")\n",
    "    df['arrival_date_day_of_month'] = df['arrival_date_day_of_month'].replace(7, \"07\")\n",
    "    df['arrival_date_day_of_month'] = df['arrival_date_day_of_month'].replace(8, \"08\")\n",
    "    df['arrival_date_day_of_month'] = df['arrival_date_day_of_month'].replace(9, \"09\")\n",
    "    df1 = df[[\"arrival_date_year\", \"arrival_date_month\", \"arrival_date_day_of_month\", \"adr\", \"is_canceled\", \"stays_in_weekend_nights\", \"stays_in_week_nights\"]].copy()\n",
    "    df1[\"revenue\"] = (1 - df1[\"is_canceled\"]) * df1[\"adr\"] * (df1[\"stays_in_week_nights\"] + df1[\"stays_in_weekend_nights\"])\n",
    "    df1[\"arrival_date\"] = df1[\"arrival_date_year\"].astype(str) + \"-\" + df1[\"arrival_date_month\"] + \"-\" + df1[\"arrival_date_day_of_month\"].astype(str)\n",
    "    df2 = df1[['arrival_date', 'revenue']]\n",
    "    df2 = df2.groupby(by=\"arrival_date\").sum()\n",
    "    return(df2) # one column: revenue"
   ]
  },
  {
   "cell_type": "markdown",
   "metadata": {},
   "source": [
    "### 5.1 Revenue to label "
   ]
  },
  {
   "cell_type": "code",
   "execution_count": 129,
   "metadata": {
    "collapsed": true,
    "jupyter": {
     "outputs_hidden": true
    }
   },
   "outputs": [
    {
     "name": "stderr",
     "output_type": "stream",
     "text": [
      "/Users/joannehuang/anaconda3/lib/python3.6/site-packages/ipykernel_launcher.py:2: SettingWithCopyWarning:\n",
      "\n",
      "\n",
      "A value is trying to be set on a copy of a slice from a DataFrame.\n",
      "Try using .loc[row_indexer,col_indexer] = value instead\n",
      "\n",
      "See the caveats in the documentation: https://pandas.pydata.org/pandas-docs/stable/user_guide/indexing.html#returning-a-view-versus-a-copy\n",
      "\n",
      "/Users/joannehuang/anaconda3/lib/python3.6/site-packages/ipykernel_launcher.py:3: SettingWithCopyWarning:\n",
      "\n",
      "\n",
      "A value is trying to be set on a copy of a slice from a DataFrame.\n",
      "Try using .loc[row_indexer,col_indexer] = value instead\n",
      "\n",
      "See the caveats in the documentation: https://pandas.pydata.org/pandas-docs/stable/user_guide/indexing.html#returning-a-view-versus-a-copy\n",
      "\n",
      "/Users/joannehuang/anaconda3/lib/python3.6/site-packages/ipykernel_launcher.py:4: SettingWithCopyWarning:\n",
      "\n",
      "\n",
      "A value is trying to be set on a copy of a slice from a DataFrame.\n",
      "Try using .loc[row_indexer,col_indexer] = value instead\n",
      "\n",
      "See the caveats in the documentation: https://pandas.pydata.org/pandas-docs/stable/user_guide/indexing.html#returning-a-view-versus-a-copy\n",
      "\n",
      "/Users/joannehuang/anaconda3/lib/python3.6/site-packages/ipykernel_launcher.py:5: SettingWithCopyWarning:\n",
      "\n",
      "\n",
      "A value is trying to be set on a copy of a slice from a DataFrame.\n",
      "Try using .loc[row_indexer,col_indexer] = value instead\n",
      "\n",
      "See the caveats in the documentation: https://pandas.pydata.org/pandas-docs/stable/user_guide/indexing.html#returning-a-view-versus-a-copy\n",
      "\n",
      "/Users/joannehuang/anaconda3/lib/python3.6/site-packages/ipykernel_launcher.py:6: SettingWithCopyWarning:\n",
      "\n",
      "\n",
      "A value is trying to be set on a copy of a slice from a DataFrame.\n",
      "Try using .loc[row_indexer,col_indexer] = value instead\n",
      "\n",
      "See the caveats in the documentation: https://pandas.pydata.org/pandas-docs/stable/user_guide/indexing.html#returning-a-view-versus-a-copy\n",
      "\n",
      "/Users/joannehuang/anaconda3/lib/python3.6/site-packages/ipykernel_launcher.py:7: SettingWithCopyWarning:\n",
      "\n",
      "\n",
      "A value is trying to be set on a copy of a slice from a DataFrame.\n",
      "Try using .loc[row_indexer,col_indexer] = value instead\n",
      "\n",
      "See the caveats in the documentation: https://pandas.pydata.org/pandas-docs/stable/user_guide/indexing.html#returning-a-view-versus-a-copy\n",
      "\n",
      "/Users/joannehuang/anaconda3/lib/python3.6/site-packages/ipykernel_launcher.py:8: SettingWithCopyWarning:\n",
      "\n",
      "\n",
      "A value is trying to be set on a copy of a slice from a DataFrame.\n",
      "Try using .loc[row_indexer,col_indexer] = value instead\n",
      "\n",
      "See the caveats in the documentation: https://pandas.pydata.org/pandas-docs/stable/user_guide/indexing.html#returning-a-view-versus-a-copy\n",
      "\n",
      "/Users/joannehuang/anaconda3/lib/python3.6/site-packages/ipykernel_launcher.py:9: SettingWithCopyWarning:\n",
      "\n",
      "\n",
      "A value is trying to be set on a copy of a slice from a DataFrame.\n",
      "Try using .loc[row_indexer,col_indexer] = value instead\n",
      "\n",
      "See the caveats in the documentation: https://pandas.pydata.org/pandas-docs/stable/user_guide/indexing.html#returning-a-view-versus-a-copy\n",
      "\n",
      "/Users/joannehuang/anaconda3/lib/python3.6/site-packages/ipykernel_launcher.py:10: SettingWithCopyWarning:\n",
      "\n",
      "\n",
      "A value is trying to be set on a copy of a slice from a DataFrame.\n",
      "Try using .loc[row_indexer,col_indexer] = value instead\n",
      "\n",
      "See the caveats in the documentation: https://pandas.pydata.org/pandas-docs/stable/user_guide/indexing.html#returning-a-view-versus-a-copy\n",
      "\n",
      "/Users/joannehuang/anaconda3/lib/python3.6/site-packages/ipykernel_launcher.py:11: SettingWithCopyWarning:\n",
      "\n",
      "\n",
      "A value is trying to be set on a copy of a slice from a DataFrame.\n",
      "Try using .loc[row_indexer,col_indexer] = value instead\n",
      "\n",
      "See the caveats in the documentation: https://pandas.pydata.org/pandas-docs/stable/user_guide/indexing.html#returning-a-view-versus-a-copy\n",
      "\n"
     ]
    }
   ],
   "source": [
    "revenue_train = calculateDateRevenue(df_train)\n",
    "revenue_val = calculateDateRevenue(df_val)"
   ]
  },
  {
   "cell_type": "code",
   "execution_count": 130,
   "metadata": {},
   "outputs": [],
   "source": [
    "revenue_train = revenue_train.merge(label_train, on='arrival_date')\n",
    "revenue_val = revenue_val.merge(label_val, on='arrival_date')\n",
    "\n",
    "label_train = label.loc[:518, :]\n",
    "label_val = label.loc[519:, :]"
   ]
  },
  {
   "cell_type": "code",
   "execution_count": 132,
   "metadata": {},
   "outputs": [
    {
     "data": {
      "text/html": [
       "<div>\n",
       "<style scoped>\n",
       "    .dataframe tbody tr th:only-of-type {\n",
       "        vertical-align: middle;\n",
       "    }\n",
       "\n",
       "    .dataframe tbody tr th {\n",
       "        vertical-align: top;\n",
       "    }\n",
       "\n",
       "    .dataframe thead th {\n",
       "        text-align: right;\n",
       "    }\n",
       "</style>\n",
       "<table border=\"1\" class=\"dataframe\">\n",
       "  <thead>\n",
       "    <tr style=\"text-align: right;\">\n",
       "      <th></th>\n",
       "      <th>arrival_date</th>\n",
       "      <th>revenue</th>\n",
       "      <th>label</th>\n",
       "    </tr>\n",
       "  </thead>\n",
       "  <tbody>\n",
       "    <tr>\n",
       "      <th>0</th>\n",
       "      <td>2016-12-01</td>\n",
       "      <td>18255.662091</td>\n",
       "      <td>1.0</td>\n",
       "    </tr>\n",
       "    <tr>\n",
       "      <th>1</th>\n",
       "      <td>2016-12-02</td>\n",
       "      <td>19889.133447</td>\n",
       "      <td>1.0</td>\n",
       "    </tr>\n",
       "    <tr>\n",
       "      <th>2</th>\n",
       "      <td>2016-12-03</td>\n",
       "      <td>27734.002145</td>\n",
       "      <td>2.0</td>\n",
       "    </tr>\n",
       "    <tr>\n",
       "      <th>3</th>\n",
       "      <td>2016-12-04</td>\n",
       "      <td>15142.260207</td>\n",
       "      <td>1.0</td>\n",
       "    </tr>\n",
       "    <tr>\n",
       "      <th>4</th>\n",
       "      <td>2016-12-05</td>\n",
       "      <td>23293.063788</td>\n",
       "      <td>2.0</td>\n",
       "    </tr>\n",
       "    <tr>\n",
       "      <th>...</th>\n",
       "      <td>...</td>\n",
       "      <td>...</td>\n",
       "      <td>...</td>\n",
       "    </tr>\n",
       "    <tr>\n",
       "      <th>116</th>\n",
       "      <td>2017-03-27</td>\n",
       "      <td>26217.381380</td>\n",
       "      <td>2.0</td>\n",
       "    </tr>\n",
       "    <tr>\n",
       "      <th>117</th>\n",
       "      <td>2017-03-28</td>\n",
       "      <td>16185.177703</td>\n",
       "      <td>1.0</td>\n",
       "    </tr>\n",
       "    <tr>\n",
       "      <th>118</th>\n",
       "      <td>2017-03-29</td>\n",
       "      <td>24002.255525</td>\n",
       "      <td>2.0</td>\n",
       "    </tr>\n",
       "    <tr>\n",
       "      <th>119</th>\n",
       "      <td>2017-03-30</td>\n",
       "      <td>33095.297394</td>\n",
       "      <td>3.0</td>\n",
       "    </tr>\n",
       "    <tr>\n",
       "      <th>120</th>\n",
       "      <td>2017-03-31</td>\n",
       "      <td>36062.103164</td>\n",
       "      <td>3.0</td>\n",
       "    </tr>\n",
       "  </tbody>\n",
       "</table>\n",
       "<p>121 rows × 3 columns</p>\n",
       "</div>"
      ],
      "text/plain": [
       "    arrival_date       revenue  label\n",
       "0     2016-12-01  18255.662091    1.0\n",
       "1     2016-12-02  19889.133447    1.0\n",
       "2     2016-12-03  27734.002145    2.0\n",
       "3     2016-12-04  15142.260207    1.0\n",
       "4     2016-12-05  23293.063788    2.0\n",
       "..           ...           ...    ...\n",
       "116   2017-03-27  26217.381380    2.0\n",
       "117   2017-03-28  16185.177703    1.0\n",
       "118   2017-03-29  24002.255525    2.0\n",
       "119   2017-03-30  33095.297394    3.0\n",
       "120   2017-03-31  36062.103164    3.0\n",
       "\n",
       "[121 rows x 3 columns]"
      ]
     },
     "execution_count": 132,
     "metadata": {},
     "output_type": "execute_result"
    }
   ],
   "source": [
    "revenue_val"
   ]
  },
  {
   "cell_type": "markdown",
   "metadata": {},
   "source": [
    "### 5.2 Desicion Stump"
   ]
  },
  {
   "cell_type": "code",
   "execution_count": 52,
   "metadata": {},
   "outputs": [],
   "source": [
    "from sklearn import tree\n",
    "\n",
    "def trainDecisionStump(X_train, y_train, X_val):\n",
    "    clf = tree.DecisionTreeClassifier().fit(X_train, y_train)\n",
    "    y_result = clf.predict(X_val)\n",
    "    return(y_result)\n",
    "\n",
    "def trainDecisionStumpRegressor(X_train, y_train, X_val):\n",
    "    clf = tree.DecisionTreeRegressor(max_depth=10).fit(X_train, y_train)\n",
    "    y_result = clf.predict(X_val)\n",
    "    return(y_result)"
   ]
  },
  {
   "cell_type": "code",
   "execution_count": null,
   "metadata": {},
   "outputs": [],
   "source": [
    "rev_train = pd.DataFrame({'rev': revenue_train['revenue'].tolist()})\n",
    "lab_train = revenue_train['label'].tolist()\n",
    "rev_val = pd.DataFrame({'rev': revenue_val['revenue'].tolist()})\n",
    "lab_val = revenue_val['label'].tolist()"
   ]
  },
  {
   "cell_type": "code",
   "execution_count": null,
   "metadata": {},
   "outputs": [],
   "source": [
    "y_result = trainDecisionStump(rev_train, lab_train, rev_val)"
   ]
  },
  {
   "cell_type": "markdown",
   "metadata": {},
   "source": [
    "### 5.2.1 compute validation accuracy"
   ]
  },
  {
   "cell_type": "code",
   "execution_count": 136,
   "metadata": {},
   "outputs": [
    {
     "name": "stdout",
     "output_type": "stream",
     "text": [
      "Accuracy = 0.9917355371900827\n",
      "Number of mislabeled points out of a total 121 points : 1\n",
      "E_val =  0.008264462809917356\n"
     ]
    }
   ],
   "source": [
    "computeAccuracy(rev_val,lab_val,y_result)"
   ]
  },
  {
   "cell_type": "markdown",
   "metadata": {},
   "source": [
    "## 6.0 Test"
   ]
  },
  {
   "cell_type": "markdown",
   "metadata": {},
   "source": [
    "### 6.1 Train the whole dataset for revenue"
   ]
  },
  {
   "cell_type": "code",
   "execution_count": null,
   "metadata": {},
   "outputs": [],
   "source": [
    "revenue_train_all = calculateDateRevenue(df_origin)\n",
    "label[\"ID\"] = label.index\n",
    "revenue_train_all = revenue_train_all.merge(label, on='arrival_date')\n",
    "rev_train_all = pd.DataFrame({'rev': revenue_train_all['revenue'].tolist()})\n",
    "lab_train_all = pd.DataFrame({'lab': revenue_train_all['label'].tolist()})"
   ]
  },
  {
   "cell_type": "code",
   "execution_count": 140,
   "metadata": {},
   "outputs": [],
   "source": [
    "df_fin = df_test[['arrival_date_month', 'arrival_date_year',\\\n",
    "                  'arrival_date_day_of_month', 'stays_in_weekend_nights', 'stays_in_week_nights']].copy()\n",
    "df_fin.insert(0, 'is_canceled', y_isCan_all)\n",
    "df_fin.insert(1, 'adr', y_adr_all)\n",
    "df_test_rev = calculateDateRevenue(df_fin)"
   ]
  },
  {
   "cell_type": "code",
   "execution_count": 142,
   "metadata": {},
   "outputs": [
    {
     "data": {
      "text/html": [
       "<div>\n",
       "<style scoped>\n",
       "    .dataframe tbody tr th:only-of-type {\n",
       "        vertical-align: middle;\n",
       "    }\n",
       "\n",
       "    .dataframe tbody tr th {\n",
       "        vertical-align: top;\n",
       "    }\n",
       "\n",
       "    .dataframe thead th {\n",
       "        text-align: right;\n",
       "    }\n",
       "</style>\n",
       "<table border=\"1\" class=\"dataframe\">\n",
       "  <thead>\n",
       "    <tr style=\"text-align: right;\">\n",
       "      <th></th>\n",
       "      <th>revenue</th>\n",
       "    </tr>\n",
       "    <tr>\n",
       "      <th>arrival_date</th>\n",
       "      <th></th>\n",
       "    </tr>\n",
       "  </thead>\n",
       "  <tbody>\n",
       "    <tr>\n",
       "      <th>2017-04-01</th>\n",
       "      <td>27363.731676</td>\n",
       "    </tr>\n",
       "    <tr>\n",
       "      <th>2017-04-02</th>\n",
       "      <td>22195.240044</td>\n",
       "    </tr>\n",
       "    <tr>\n",
       "      <th>2017-04-03</th>\n",
       "      <td>29558.047116</td>\n",
       "    </tr>\n",
       "    <tr>\n",
       "      <th>2017-04-04</th>\n",
       "      <td>12835.407776</td>\n",
       "    </tr>\n",
       "    <tr>\n",
       "      <th>2017-04-05</th>\n",
       "      <td>25842.868707</td>\n",
       "    </tr>\n",
       "    <tr>\n",
       "      <th>...</th>\n",
       "      <td>...</td>\n",
       "    </tr>\n",
       "    <tr>\n",
       "      <th>2017-08-27</th>\n",
       "      <td>28819.782979</td>\n",
       "    </tr>\n",
       "    <tr>\n",
       "      <th>2017-08-28</th>\n",
       "      <td>56409.527265</td>\n",
       "    </tr>\n",
       "    <tr>\n",
       "      <th>2017-08-29</th>\n",
       "      <td>21254.173135</td>\n",
       "    </tr>\n",
       "    <tr>\n",
       "      <th>2017-08-30</th>\n",
       "      <td>16860.626669</td>\n",
       "    </tr>\n",
       "    <tr>\n",
       "      <th>2017-08-31</th>\n",
       "      <td>21647.490786</td>\n",
       "    </tr>\n",
       "  </tbody>\n",
       "</table>\n",
       "<p>153 rows × 1 columns</p>\n",
       "</div>"
      ],
      "text/plain": [
       "                   revenue\n",
       "arrival_date              \n",
       "2017-04-01    27363.731676\n",
       "2017-04-02    22195.240044\n",
       "2017-04-03    29558.047116\n",
       "2017-04-04    12835.407776\n",
       "2017-04-05    25842.868707\n",
       "...                    ...\n",
       "2017-08-27    28819.782979\n",
       "2017-08-28    56409.527265\n",
       "2017-08-29    21254.173135\n",
       "2017-08-30    16860.626669\n",
       "2017-08-31    21647.490786\n",
       "\n",
       "[153 rows x 1 columns]"
      ]
     },
     "execution_count": 142,
     "metadata": {},
     "output_type": "execute_result"
    }
   ],
   "source": [
    "df_test_rev"
   ]
  },
  {
   "cell_type": "markdown",
   "metadata": {},
   "source": [
    "### 6.2 Decision stump to predict label"
   ]
  },
  {
   "cell_type": "code",
   "execution_count": 143,
   "metadata": {},
   "outputs": [],
   "source": [
    "rev_test = pd.DataFrame({'rev': df_test_rev['revenue'].tolist()})\n",
    "y_result = trainDecisionStump(rev_train_all, lab_train_all, rev_test, 10, 2)"
   ]
  },
  {
   "cell_type": "code",
   "execution_count": 146,
   "metadata": {},
   "outputs": [
    {
     "data": {
      "text/plain": [
       "2.0    82\n",
       "3.0    38\n",
       "1.0    27\n",
       "4.0     5\n",
       "5.0     1\n",
       "dtype: int64"
      ]
     },
     "execution_count": 146,
     "metadata": {},
     "output_type": "execute_result"
    }
   ],
   "source": [
    "pd.Series(y_result).value_counts()"
   ]
  },
  {
   "cell_type": "markdown",
   "metadata": {},
   "source": [
    "### 6.3 Export to csv"
   ]
  },
  {
   "cell_type": "code",
   "execution_count": 148,
   "metadata": {},
   "outputs": [],
   "source": [
    "df_test_rev.insert(1, 'label', y_result.astype(int))"
   ]
  },
  {
   "cell_type": "code",
   "execution_count": 149,
   "metadata": {},
   "outputs": [],
   "source": [
    "df_final = df_test_rev.drop(columns = ['revenue'])\n",
    "df_final.to_csv('test_label.csv')"
   ]
  }
 ],
 "metadata": {
  "kernelspec": {
   "display_name": "Python 3",
   "language": "python",
   "name": "python3"
  },
  "language_info": {
   "codemirror_mode": {
    "name": "ipython",
    "version": 3
   },
   "file_extension": ".py",
   "mimetype": "text/x-python",
   "name": "python",
   "nbconvert_exporter": "python",
   "pygments_lexer": "ipython3",
   "version": "3.6.8"
  }
 },
 "nbformat": 4,
 "nbformat_minor": 4
}
